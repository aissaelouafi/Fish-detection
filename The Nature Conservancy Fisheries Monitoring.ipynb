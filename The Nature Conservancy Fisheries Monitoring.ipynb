{
 "cells": [
  {
   "cell_type": "markdown",
   "metadata": {},
   "source": [
    "# The Nature Conservancy Fisheries Monitoring Kaggle competition"
   ]
  },
  {
   "cell_type": "markdown",
   "metadata": {},
   "source": [
    "The goal of this competition is to develop algorithms to automatically detect and classify species of tunas, sharks and more that fishing boats catch, which will accelerate the video review process. Faster review and more reliable data will enable countries to reallocate human capital to management and enforcement activities which will have a positive impact on conservation and our planet."
   ]
  },
  {
   "cell_type": "markdown",
   "metadata": {},
   "source": [
    "### Import libraries : "
   ]
  },
  {
   "cell_type": "code",
   "execution_count": 25,
   "metadata": {
    "collapsed": false
   },
   "outputs": [],
   "source": [
    "import os,glob,cv2,datetime,time,warnings\n",
    "import numpy as np\n",
    "from sklearn.cross_validation import KFold\n",
    "from keras.models import Sequential\n",
    "from keras.layers.core import Dense, Dropout, Flatten\n",
    "from keras.layers.convolutional import Convolution2D, MaxPooling2D, ZeroPadding2D, AveragePooling2D\n",
    "from keras.optimizers import SGD, Adagrad\n",
    "from keras.callbacks import EarlyStopping\n",
    "from keras.utils import np_utils\n",
    "from sklearn.metrics import log_loss\n",
    "from keras import __version__ as keras_version"
   ]
  },
  {
   "cell_type": "markdown",
   "metadata": {},
   "source": [
    "### Import images : \n",
    "Get image and resize them to 48*48 pixels"
   ]
  },
  {
   "cell_type": "code",
   "execution_count": 26,
   "metadata": {
    "collapsed": false
   },
   "outputs": [],
   "source": [
    "#Get and resize image\n",
    "def get_im_cv2(path, img_rows, img_cols):\n",
    "    img = cv2.imread(path, 0)\n",
    "    resized = cv2.resize(img, (img_cols, img_rows), interpolation = cv2.INTER_LINEAR)\n",
    "    return resized\n",
    "\n",
    "#Load train data \n",
    "def load_train():\n",
    "    X_train = []\n",
    "    X_train_id = []\n",
    "    y_train = []\n",
    "    start_time = time.time()\n",
    "    \n",
    "    print('Read train images')\n",
    "    folders = ['ALB', 'BET', 'DOL', 'LAG', 'NoF', 'OTHER', 'SHARK', 'YFT']\n",
    "    for fold in folders:\n",
    "        index = folders.index(fold) #Get the folder index\n",
    "        print('Load folder {} (Index : {})'.format(fold,index))\n",
    "        path = os.path.join('.','data','train',fold,'*.jpg')\n",
    "        files = glob.glob(path)\n",
    "        for file in files:\n",
    "            flbase = os.path.basename(file)\n",
    "            img = get_im_cv2(file,32,32)\n",
    "            X_train.append(img) #Append the image file in the train array\n",
    "            X_train_id.append(file) #Append the image id in the X_train_id array\n",
    "            y_train.append(index) #Add the index of folder \n",
    "    print('Read train data time {} seconds'.format(round(time.time() - start_time,2)))\n",
    "    return X_train,y_train,X_train_id\n",
    "\n",
    "#Load test data\n",
    "def load_test():\n",
    "    path = os.path.join('.','data','test_stg1','*.jpg')\n",
    "    files = sorted(glob.glob(path))\n",
    "    \n",
    "    X_test = []\n",
    "    X_test_id = []\n",
    "    \n",
    "    print('Read train images')\n",
    "    for file in files:\n",
    "        flbase = os.path.basename(file)\n",
    "        img = get_im_cv2(file,32,32)\n",
    "        X_test.append(img)\n",
    "        X_train_id.append(flbase)\n",
    "    return X_test,X_test_id"
   ]
  },
  {
   "cell_type": "markdown",
   "metadata": {},
   "source": [
    "### Read and normalize data "
   ]
  },
  {
   "cell_type": "code",
   "execution_count": 31,
   "metadata": {
    "collapsed": false
   },
   "outputs": [],
   "source": [
    "def read_and_normalize_train_data():\n",
    "    train_data, train_target, train_id = load_train()\n",
    "\n",
    "    print('Convert to numpy...')\n",
    "    train_data = np.array(train_data, dtype=np.uint8)\n",
    "    train_target = np.array(train_target, dtype=np.uint8)\n",
    "\n",
    "    print('Reshape...')\n",
    "    train_data = train_data.transpose()\n",
    "\n",
    "    print('Convert to float...')\n",
    "    train_data = train_data.astype('float32')\n",
    "    train_data = train_data / 255\n",
    "    train_target = np_utils.to_categorical(train_target, 8)\n",
    "\n",
    "    print('Train shape:', train_data.shape)\n",
    "    print(train_data.shape[0], 'train samples')\n",
    "    return train_data, train_target, train_id"
   ]
  },
  {
   "cell_type": "code",
   "execution_count": 29,
   "metadata": {
    "collapsed": false
   },
   "outputs": [
    {
     "name": "stdout",
     "output_type": "stream",
     "text": [
      "Read train images\n",
      "Load folder ALB (Index : 0)\n",
      "Load folder BET (Index : 1)\n",
      "Load folder DOL (Index : 2)\n",
      "Load folder LAG (Index : 3)\n",
      "Load folder NoF (Index : 4)\n",
      "Load folder OTHER (Index : 5)\n",
      "Load folder SHARK (Index : 6)\n",
      "Load folder YFT (Index : 7)\n",
      "Read train data time 39.89 seconds\n"
     ]
    }
   ],
   "source": [
    "X_train,y_train,X_train_id = load_train()"
   ]
  },
  {
   "cell_type": "code",
   "execution_count": 32,
   "metadata": {
    "collapsed": false
   },
   "outputs": [
    {
     "name": "stdout",
     "output_type": "stream",
     "text": [
      "Read train images\n",
      "Load folder ALB (Index : 0)\n",
      "Load folder BET (Index : 1)\n",
      "Load folder DOL (Index : 2)\n",
      "Load folder LAG (Index : 3)\n",
      "Load folder NoF (Index : 4)\n",
      "Load folder OTHER (Index : 5)\n",
      "Load folder SHARK (Index : 6)\n",
      "Load folder YFT (Index : 7)\n",
      "Read train data time 37.23 seconds\n",
      "Convert to numpy...\n",
      "Reshape...\n",
      "Convert to float...\n",
      "('Train shape:', (32, 32, 3777))\n",
      "(32, 'train samples')\n"
     ]
    }
   ],
   "source": [
    "t_data, y_train, t_id = read_and_normalize_train_data()"
   ]
  },
  {
   "cell_type": "code",
   "execution_count": 36,
   "metadata": {
    "collapsed": false
   },
   "outputs": [
    {
     "data": {
      "text/plain": [
       "array([[ 0.29019609,  0.29019609,  0.6156863 , ...,  0.65098041,\n",
       "         0.27450982,  0.29019609],\n",
       "       [ 0.15686275,  0.22352941,  0.65490198, ...,  0.65098041,\n",
       "         0.21568628,  0.17254902],\n",
       "       [ 0.47450981,  0.39607844,  0.96862745, ...,  0.61960787,\n",
       "         0.36078432,  0.50196081],\n",
       "       ..., \n",
       "       [ 0.43921569,  0.41568628,  1.        , ...,  0.27058825,\n",
       "         0.25098041,  0.45490196],\n",
       "       [ 0.41568628,  0.3882353 ,  0.98039216, ...,  0.36470589,\n",
       "         0.30980393,  0.43137255],\n",
       "       [ 0.35686275,  0.34901962,  1.        , ...,  0.30980393,\n",
       "         0.23137255,  0.41176471]], dtype=float32)"
      ]
     },
     "execution_count": 36,
     "metadata": {},
     "output_type": "execute_result"
    }
   ],
   "source": [
    "t_data[0]"
   ]
  },
  {
   "cell_type": "code",
   "execution_count": null,
   "metadata": {
    "collapsed": true
   },
   "outputs": [],
   "source": []
  }
 ],
 "metadata": {
  "kernelspec": {
   "display_name": "Python 2",
   "language": "python",
   "name": "python2"
  },
  "language_info": {
   "codemirror_mode": {
    "name": "ipython",
    "version": 2
   },
   "file_extension": ".py",
   "mimetype": "text/x-python",
   "name": "python",
   "nbconvert_exporter": "python",
   "pygments_lexer": "ipython2",
   "version": "2.7.11"
  }
 },
 "nbformat": 4,
 "nbformat_minor": 0
}
